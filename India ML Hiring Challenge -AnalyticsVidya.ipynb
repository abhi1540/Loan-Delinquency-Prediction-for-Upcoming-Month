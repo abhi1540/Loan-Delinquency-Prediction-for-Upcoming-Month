{
 "cells": [
  {
   "cell_type": "markdown",
   "metadata": {},
   "source": [
    "# India ML Hiring Hackathon 2019"
   ]
  },
  {
   "cell_type": "markdown",
   "metadata": {},
   "source": [
    "# Loan Delinquency Prediction for upcoming month"
   ]
  },
  {
   "cell_type": "code",
   "execution_count": 63,
   "metadata": {},
   "outputs": [],
   "source": [
    "import pandas as pd\n",
    "from sklearn.preprocessing import OneHotEncoder\n",
    "import numpy as np\n",
    "import matplotlib.pyplot as plt\n",
    "import seaborn as sns\n",
    "import xgboost as xgb\n",
    "from sklearn.metrics import confusion_matrix\n",
    "%matplotlib inline\n",
    "from sklearn.metrics import f1_score\n",
    "from sklearn.model_selection import GridSearchCV"
   ]
  },
  {
   "cell_type": "code",
   "execution_count": 2,
   "metadata": {},
   "outputs": [],
   "source": [
    "train_data = pd.read_csv('train.csv')"
   ]
  },
  {
   "cell_type": "code",
   "execution_count": 3,
   "metadata": {},
   "outputs": [],
   "source": [
    "test_data = pd.read_csv('test.csv')"
   ]
  },
  {
   "cell_type": "markdown",
   "metadata": {},
   "source": [
    "### Performance Matrics"
   ]
  },
  {
   "cell_type": "raw",
   "metadata": {},
   "source": [
    "we will use F1Score for this challenge"
   ]
  },
  {
   "cell_type": "markdown",
   "metadata": {},
   "source": [
    "# EDA "
   ]
  },
  {
   "cell_type": "code",
   "execution_count": 4,
   "metadata": {},
   "outputs": [
    {
     "data": {
      "text/html": [
       "<div>\n",
       "<style scoped>\n",
       "    .dataframe tbody tr th:only-of-type {\n",
       "        vertical-align: middle;\n",
       "    }\n",
       "\n",
       "    .dataframe tbody tr th {\n",
       "        vertical-align: top;\n",
       "    }\n",
       "\n",
       "    .dataframe thead th {\n",
       "        text-align: right;\n",
       "    }\n",
       "</style>\n",
       "<table border=\"1\" class=\"dataframe\">\n",
       "  <thead>\n",
       "    <tr style=\"text-align: right;\">\n",
       "      <th></th>\n",
       "      <th>loan_id</th>\n",
       "      <th>source</th>\n",
       "      <th>financial_institution</th>\n",
       "      <th>interest_rate</th>\n",
       "      <th>unpaid_principal_bal</th>\n",
       "      <th>loan_term</th>\n",
       "      <th>origination_date</th>\n",
       "      <th>first_payment_date</th>\n",
       "      <th>loan_to_value</th>\n",
       "      <th>number_of_borrowers</th>\n",
       "      <th>...</th>\n",
       "      <th>m4</th>\n",
       "      <th>m5</th>\n",
       "      <th>m6</th>\n",
       "      <th>m7</th>\n",
       "      <th>m8</th>\n",
       "      <th>m9</th>\n",
       "      <th>m10</th>\n",
       "      <th>m11</th>\n",
       "      <th>m12</th>\n",
       "      <th>m13</th>\n",
       "    </tr>\n",
       "  </thead>\n",
       "  <tbody>\n",
       "    <tr>\n",
       "      <th>0</th>\n",
       "      <td>268055008619</td>\n",
       "      <td>Z</td>\n",
       "      <td>Turner, Baldwin and Rhodes</td>\n",
       "      <td>4.250</td>\n",
       "      <td>214000</td>\n",
       "      <td>360</td>\n",
       "      <td>2012-03-01</td>\n",
       "      <td>05/2012</td>\n",
       "      <td>95</td>\n",
       "      <td>1.0</td>\n",
       "      <td>...</td>\n",
       "      <td>0</td>\n",
       "      <td>0</td>\n",
       "      <td>0</td>\n",
       "      <td>1</td>\n",
       "      <td>0</td>\n",
       "      <td>0</td>\n",
       "      <td>0</td>\n",
       "      <td>0</td>\n",
       "      <td>0</td>\n",
       "      <td>1</td>\n",
       "    </tr>\n",
       "    <tr>\n",
       "      <th>1</th>\n",
       "      <td>672831657627</td>\n",
       "      <td>Y</td>\n",
       "      <td>Swanson, Newton and Miller</td>\n",
       "      <td>4.875</td>\n",
       "      <td>144000</td>\n",
       "      <td>360</td>\n",
       "      <td>2012-01-01</td>\n",
       "      <td>03/2012</td>\n",
       "      <td>72</td>\n",
       "      <td>1.0</td>\n",
       "      <td>...</td>\n",
       "      <td>0</td>\n",
       "      <td>0</td>\n",
       "      <td>0</td>\n",
       "      <td>0</td>\n",
       "      <td>0</td>\n",
       "      <td>0</td>\n",
       "      <td>0</td>\n",
       "      <td>1</td>\n",
       "      <td>0</td>\n",
       "      <td>1</td>\n",
       "    </tr>\n",
       "    <tr>\n",
       "      <th>2</th>\n",
       "      <td>742515242108</td>\n",
       "      <td>Z</td>\n",
       "      <td>Thornton-Davis</td>\n",
       "      <td>3.250</td>\n",
       "      <td>366000</td>\n",
       "      <td>180</td>\n",
       "      <td>2012-01-01</td>\n",
       "      <td>03/2012</td>\n",
       "      <td>49</td>\n",
       "      <td>1.0</td>\n",
       "      <td>...</td>\n",
       "      <td>0</td>\n",
       "      <td>0</td>\n",
       "      <td>0</td>\n",
       "      <td>0</td>\n",
       "      <td>0</td>\n",
       "      <td>0</td>\n",
       "      <td>0</td>\n",
       "      <td>0</td>\n",
       "      <td>0</td>\n",
       "      <td>1</td>\n",
       "    </tr>\n",
       "    <tr>\n",
       "      <th>3</th>\n",
       "      <td>601385667462</td>\n",
       "      <td>X</td>\n",
       "      <td>OTHER</td>\n",
       "      <td>4.750</td>\n",
       "      <td>135000</td>\n",
       "      <td>360</td>\n",
       "      <td>2012-02-01</td>\n",
       "      <td>04/2012</td>\n",
       "      <td>46</td>\n",
       "      <td>2.0</td>\n",
       "      <td>...</td>\n",
       "      <td>0</td>\n",
       "      <td>0</td>\n",
       "      <td>0</td>\n",
       "      <td>0</td>\n",
       "      <td>0</td>\n",
       "      <td>1</td>\n",
       "      <td>1</td>\n",
       "      <td>1</td>\n",
       "      <td>1</td>\n",
       "      <td>1</td>\n",
       "    </tr>\n",
       "    <tr>\n",
       "      <th>4</th>\n",
       "      <td>273870029961</td>\n",
       "      <td>X</td>\n",
       "      <td>OTHER</td>\n",
       "      <td>4.750</td>\n",
       "      <td>124000</td>\n",
       "      <td>360</td>\n",
       "      <td>2012-02-01</td>\n",
       "      <td>04/2012</td>\n",
       "      <td>80</td>\n",
       "      <td>1.0</td>\n",
       "      <td>...</td>\n",
       "      <td>3</td>\n",
       "      <td>4</td>\n",
       "      <td>5</td>\n",
       "      <td>6</td>\n",
       "      <td>7</td>\n",
       "      <td>8</td>\n",
       "      <td>9</td>\n",
       "      <td>10</td>\n",
       "      <td>11</td>\n",
       "      <td>1</td>\n",
       "    </tr>\n",
       "  </tbody>\n",
       "</table>\n",
       "<p>5 rows × 29 columns</p>\n",
       "</div>"
      ],
      "text/plain": [
       "        loan_id source       financial_institution  interest_rate  \\\n",
       "0  268055008619      Z  Turner, Baldwin and Rhodes          4.250   \n",
       "1  672831657627      Y  Swanson, Newton and Miller          4.875   \n",
       "2  742515242108      Z              Thornton-Davis          3.250   \n",
       "3  601385667462      X                       OTHER          4.750   \n",
       "4  273870029961      X                       OTHER          4.750   \n",
       "\n",
       "   unpaid_principal_bal  loan_term origination_date first_payment_date  \\\n",
       "0                214000        360       2012-03-01            05/2012   \n",
       "1                144000        360       2012-01-01            03/2012   \n",
       "2                366000        180       2012-01-01            03/2012   \n",
       "3                135000        360       2012-02-01            04/2012   \n",
       "4                124000        360       2012-02-01            04/2012   \n",
       "\n",
       "   loan_to_value  number_of_borrowers ...   m4  m5 m6  m7  m8  m9  m10  m11  \\\n",
       "0             95                  1.0 ...    0   0  0   1   0   0    0    0   \n",
       "1             72                  1.0 ...    0   0  0   0   0   0    0    1   \n",
       "2             49                  1.0 ...    0   0  0   0   0   0    0    0   \n",
       "3             46                  2.0 ...    0   0  0   0   0   1    1    1   \n",
       "4             80                  1.0 ...    3   4  5   6   7   8    9   10   \n",
       "\n",
       "   m12  m13  \n",
       "0    0    1  \n",
       "1    0    1  \n",
       "2    0    1  \n",
       "3    1    1  \n",
       "4   11    1  \n",
       "\n",
       "[5 rows x 29 columns]"
      ]
     },
     "execution_count": 4,
     "metadata": {},
     "output_type": "execute_result"
    }
   ],
   "source": [
    "train_data.head()"
   ]
  },
  {
   "cell_type": "code",
   "execution_count": 5,
   "metadata": {},
   "outputs": [
    {
     "data": {
      "text/html": [
       "<div>\n",
       "<style scoped>\n",
       "    .dataframe tbody tr th:only-of-type {\n",
       "        vertical-align: middle;\n",
       "    }\n",
       "\n",
       "    .dataframe tbody tr th {\n",
       "        vertical-align: top;\n",
       "    }\n",
       "\n",
       "    .dataframe thead th {\n",
       "        text-align: right;\n",
       "    }\n",
       "</style>\n",
       "<table border=\"1\" class=\"dataframe\">\n",
       "  <thead>\n",
       "    <tr style=\"text-align: right;\">\n",
       "      <th></th>\n",
       "      <th>loan_id</th>\n",
       "      <th>interest_rate</th>\n",
       "      <th>unpaid_principal_bal</th>\n",
       "      <th>loan_term</th>\n",
       "      <th>loan_to_value</th>\n",
       "      <th>number_of_borrowers</th>\n",
       "      <th>debt_to_income_ratio</th>\n",
       "      <th>borrower_credit_score</th>\n",
       "      <th>insurance_percent</th>\n",
       "      <th>co-borrower_credit_score</th>\n",
       "      <th>...</th>\n",
       "      <th>m4</th>\n",
       "      <th>m5</th>\n",
       "      <th>m6</th>\n",
       "      <th>m7</th>\n",
       "      <th>m8</th>\n",
       "      <th>m9</th>\n",
       "      <th>m10</th>\n",
       "      <th>m11</th>\n",
       "      <th>m12</th>\n",
       "      <th>m13</th>\n",
       "    </tr>\n",
       "  </thead>\n",
       "  <tbody>\n",
       "    <tr>\n",
       "      <th>count</th>\n",
       "      <td>1.160580e+05</td>\n",
       "      <td>116058.000000</td>\n",
       "      <td>1.160580e+05</td>\n",
       "      <td>116058.000000</td>\n",
       "      <td>116058.000000</td>\n",
       "      <td>116058.000000</td>\n",
       "      <td>116058.000000</td>\n",
       "      <td>116058.000000</td>\n",
       "      <td>116058.000000</td>\n",
       "      <td>116058.000000</td>\n",
       "      <td>...</td>\n",
       "      <td>116058.000000</td>\n",
       "      <td>116058.000000</td>\n",
       "      <td>116058.000000</td>\n",
       "      <td>116058.000000</td>\n",
       "      <td>116058.000000</td>\n",
       "      <td>116058.000000</td>\n",
       "      <td>116058.000000</td>\n",
       "      <td>116058.000000</td>\n",
       "      <td>116058.000000</td>\n",
       "      <td>116058.000000</td>\n",
       "    </tr>\n",
       "    <tr>\n",
       "      <th>mean</th>\n",
       "      <td>5.494155e+11</td>\n",
       "      <td>3.868961</td>\n",
       "      <td>2.082262e+05</td>\n",
       "      <td>292.280997</td>\n",
       "      <td>67.431939</td>\n",
       "      <td>1.593186</td>\n",
       "      <td>30.742293</td>\n",
       "      <td>769.926778</td>\n",
       "      <td>2.786288</td>\n",
       "      <td>459.611565</td>\n",
       "      <td>...</td>\n",
       "      <td>0.002180</td>\n",
       "      <td>0.003533</td>\n",
       "      <td>0.003421</td>\n",
       "      <td>0.004162</td>\n",
       "      <td>0.004825</td>\n",
       "      <td>0.005359</td>\n",
       "      <td>0.006617</td>\n",
       "      <td>0.007109</td>\n",
       "      <td>0.008065</td>\n",
       "      <td>0.005480</td>\n",
       "    </tr>\n",
       "    <tr>\n",
       "      <th>std</th>\n",
       "      <td>2.597560e+11</td>\n",
       "      <td>0.461020</td>\n",
       "      <td>1.146851e+05</td>\n",
       "      <td>89.762415</td>\n",
       "      <td>17.291719</td>\n",
       "      <td>0.491242</td>\n",
       "      <td>9.730798</td>\n",
       "      <td>42.210706</td>\n",
       "      <td>8.096464</td>\n",
       "      <td>381.946926</td>\n",
       "      <td>...</td>\n",
       "      <td>0.062161</td>\n",
       "      <td>0.082638</td>\n",
       "      <td>0.087553</td>\n",
       "      <td>0.100961</td>\n",
       "      <td>0.113128</td>\n",
       "      <td>0.128242</td>\n",
       "      <td>0.148430</td>\n",
       "      <td>0.162884</td>\n",
       "      <td>0.178128</td>\n",
       "      <td>0.073824</td>\n",
       "    </tr>\n",
       "    <tr>\n",
       "      <th>min</th>\n",
       "      <td>1.000009e+11</td>\n",
       "      <td>2.250000</td>\n",
       "      <td>1.100000e+04</td>\n",
       "      <td>60.000000</td>\n",
       "      <td>6.000000</td>\n",
       "      <td>1.000000</td>\n",
       "      <td>1.000000</td>\n",
       "      <td>0.000000</td>\n",
       "      <td>0.000000</td>\n",
       "      <td>0.000000</td>\n",
       "      <td>...</td>\n",
       "      <td>0.000000</td>\n",
       "      <td>0.000000</td>\n",
       "      <td>0.000000</td>\n",
       "      <td>0.000000</td>\n",
       "      <td>0.000000</td>\n",
       "      <td>0.000000</td>\n",
       "      <td>0.000000</td>\n",
       "      <td>0.000000</td>\n",
       "      <td>0.000000</td>\n",
       "      <td>0.000000</td>\n",
       "    </tr>\n",
       "    <tr>\n",
       "      <th>25%</th>\n",
       "      <td>3.244656e+11</td>\n",
       "      <td>3.500000</td>\n",
       "      <td>1.200000e+05</td>\n",
       "      <td>180.000000</td>\n",
       "      <td>57.000000</td>\n",
       "      <td>1.000000</td>\n",
       "      <td>23.000000</td>\n",
       "      <td>751.000000</td>\n",
       "      <td>0.000000</td>\n",
       "      <td>0.000000</td>\n",
       "      <td>...</td>\n",
       "      <td>0.000000</td>\n",
       "      <td>0.000000</td>\n",
       "      <td>0.000000</td>\n",
       "      <td>0.000000</td>\n",
       "      <td>0.000000</td>\n",
       "      <td>0.000000</td>\n",
       "      <td>0.000000</td>\n",
       "      <td>0.000000</td>\n",
       "      <td>0.000000</td>\n",
       "      <td>0.000000</td>\n",
       "    </tr>\n",
       "    <tr>\n",
       "      <th>50%</th>\n",
       "      <td>5.486239e+11</td>\n",
       "      <td>3.875000</td>\n",
       "      <td>1.830000e+05</td>\n",
       "      <td>360.000000</td>\n",
       "      <td>72.000000</td>\n",
       "      <td>2.000000</td>\n",
       "      <td>31.000000</td>\n",
       "      <td>782.000000</td>\n",
       "      <td>0.000000</td>\n",
       "      <td>740.000000</td>\n",
       "      <td>...</td>\n",
       "      <td>0.000000</td>\n",
       "      <td>0.000000</td>\n",
       "      <td>0.000000</td>\n",
       "      <td>0.000000</td>\n",
       "      <td>0.000000</td>\n",
       "      <td>0.000000</td>\n",
       "      <td>0.000000</td>\n",
       "      <td>0.000000</td>\n",
       "      <td>0.000000</td>\n",
       "      <td>0.000000</td>\n",
       "    </tr>\n",
       "    <tr>\n",
       "      <th>75%</th>\n",
       "      <td>7.743034e+11</td>\n",
       "      <td>4.125000</td>\n",
       "      <td>2.780000e+05</td>\n",
       "      <td>360.000000</td>\n",
       "      <td>80.000000</td>\n",
       "      <td>2.000000</td>\n",
       "      <td>39.000000</td>\n",
       "      <td>800.000000</td>\n",
       "      <td>0.000000</td>\n",
       "      <td>791.000000</td>\n",
       "      <td>...</td>\n",
       "      <td>0.000000</td>\n",
       "      <td>0.000000</td>\n",
       "      <td>0.000000</td>\n",
       "      <td>0.000000</td>\n",
       "      <td>0.000000</td>\n",
       "      <td>0.000000</td>\n",
       "      <td>0.000000</td>\n",
       "      <td>0.000000</td>\n",
       "      <td>0.000000</td>\n",
       "      <td>0.000000</td>\n",
       "    </tr>\n",
       "    <tr>\n",
       "      <th>max</th>\n",
       "      <td>9.999971e+11</td>\n",
       "      <td>6.750000</td>\n",
       "      <td>1.200000e+06</td>\n",
       "      <td>360.000000</td>\n",
       "      <td>97.000000</td>\n",
       "      <td>2.000000</td>\n",
       "      <td>64.000000</td>\n",
       "      <td>840.000000</td>\n",
       "      <td>40.000000</td>\n",
       "      <td>836.000000</td>\n",
       "      <td>...</td>\n",
       "      <td>6.000000</td>\n",
       "      <td>7.000000</td>\n",
       "      <td>8.000000</td>\n",
       "      <td>9.000000</td>\n",
       "      <td>10.000000</td>\n",
       "      <td>11.000000</td>\n",
       "      <td>12.000000</td>\n",
       "      <td>13.000000</td>\n",
       "      <td>14.000000</td>\n",
       "      <td>1.000000</td>\n",
       "    </tr>\n",
       "  </tbody>\n",
       "</table>\n",
       "<p>8 rows × 24 columns</p>\n",
       "</div>"
      ],
      "text/plain": [
       "            loan_id  interest_rate  unpaid_principal_bal      loan_term  \\\n",
       "count  1.160580e+05  116058.000000          1.160580e+05  116058.000000   \n",
       "mean   5.494155e+11       3.868961          2.082262e+05     292.280997   \n",
       "std    2.597560e+11       0.461020          1.146851e+05      89.762415   \n",
       "min    1.000009e+11       2.250000          1.100000e+04      60.000000   \n",
       "25%    3.244656e+11       3.500000          1.200000e+05     180.000000   \n",
       "50%    5.486239e+11       3.875000          1.830000e+05     360.000000   \n",
       "75%    7.743034e+11       4.125000          2.780000e+05     360.000000   \n",
       "max    9.999971e+11       6.750000          1.200000e+06     360.000000   \n",
       "\n",
       "       loan_to_value  number_of_borrowers  debt_to_income_ratio  \\\n",
       "count  116058.000000        116058.000000         116058.000000   \n",
       "mean       67.431939             1.593186             30.742293   \n",
       "std        17.291719             0.491242              9.730798   \n",
       "min         6.000000             1.000000              1.000000   \n",
       "25%        57.000000             1.000000             23.000000   \n",
       "50%        72.000000             2.000000             31.000000   \n",
       "75%        80.000000             2.000000             39.000000   \n",
       "max        97.000000             2.000000             64.000000   \n",
       "\n",
       "       borrower_credit_score  insurance_percent  co-borrower_credit_score  \\\n",
       "count          116058.000000      116058.000000             116058.000000   \n",
       "mean              769.926778           2.786288                459.611565   \n",
       "std                42.210706           8.096464                381.946926   \n",
       "min                 0.000000           0.000000                  0.000000   \n",
       "25%               751.000000           0.000000                  0.000000   \n",
       "50%               782.000000           0.000000                740.000000   \n",
       "75%               800.000000           0.000000                791.000000   \n",
       "max               840.000000          40.000000                836.000000   \n",
       "\n",
       "           ...                   m4             m5             m6  \\\n",
       "count      ...        116058.000000  116058.000000  116058.000000   \n",
       "mean       ...             0.002180       0.003533       0.003421   \n",
       "std        ...             0.062161       0.082638       0.087553   \n",
       "min        ...             0.000000       0.000000       0.000000   \n",
       "25%        ...             0.000000       0.000000       0.000000   \n",
       "50%        ...             0.000000       0.000000       0.000000   \n",
       "75%        ...             0.000000       0.000000       0.000000   \n",
       "max        ...             6.000000       7.000000       8.000000   \n",
       "\n",
       "                  m7             m8             m9            m10  \\\n",
       "count  116058.000000  116058.000000  116058.000000  116058.000000   \n",
       "mean        0.004162       0.004825       0.005359       0.006617   \n",
       "std         0.100961       0.113128       0.128242       0.148430   \n",
       "min         0.000000       0.000000       0.000000       0.000000   \n",
       "25%         0.000000       0.000000       0.000000       0.000000   \n",
       "50%         0.000000       0.000000       0.000000       0.000000   \n",
       "75%         0.000000       0.000000       0.000000       0.000000   \n",
       "max         9.000000      10.000000      11.000000      12.000000   \n",
       "\n",
       "                 m11            m12            m13  \n",
       "count  116058.000000  116058.000000  116058.000000  \n",
       "mean        0.007109       0.008065       0.005480  \n",
       "std         0.162884       0.178128       0.073824  \n",
       "min         0.000000       0.000000       0.000000  \n",
       "25%         0.000000       0.000000       0.000000  \n",
       "50%         0.000000       0.000000       0.000000  \n",
       "75%         0.000000       0.000000       0.000000  \n",
       "max        13.000000      14.000000       1.000000  \n",
       "\n",
       "[8 rows x 24 columns]"
      ]
     },
     "execution_count": 5,
     "metadata": {},
     "output_type": "execute_result"
    }
   ],
   "source": [
    "train_data.describe()"
   ]
  },
  {
   "cell_type": "markdown",
   "metadata": {},
   "source": [
    "## Check Missing Values"
   ]
  },
  {
   "cell_type": "code",
   "execution_count": 6,
   "metadata": {},
   "outputs": [
    {
     "data": {
      "text/plain": [
       "loan_id                     0\n",
       "source                      0\n",
       "financial_institution       0\n",
       "interest_rate               0\n",
       "unpaid_principal_bal        0\n",
       "loan_term                   0\n",
       "origination_date            0\n",
       "first_payment_date          0\n",
       "loan_to_value               0\n",
       "number_of_borrowers         0\n",
       "debt_to_income_ratio        0\n",
       "borrower_credit_score       0\n",
       "loan_purpose                0\n",
       "insurance_percent           0\n",
       "co-borrower_credit_score    0\n",
       "insurance_type              0\n",
       "m1                          0\n",
       "m2                          0\n",
       "m3                          0\n",
       "m4                          0\n",
       "m5                          0\n",
       "m6                          0\n",
       "m7                          0\n",
       "m8                          0\n",
       "m9                          0\n",
       "m10                         0\n",
       "m11                         0\n",
       "m12                         0\n",
       "m13                         0\n",
       "dtype: int64"
      ]
     },
     "execution_count": 6,
     "metadata": {},
     "output_type": "execute_result"
    }
   ],
   "source": [
    "train_data.isnull().sum()"
   ]
  },
  {
   "cell_type": "code",
   "execution_count": 7,
   "metadata": {},
   "outputs": [],
   "source": [
    "# There is no missing value in train data. Lets check each fields one by one."
   ]
  },
  {
   "cell_type": "markdown",
   "metadata": {},
   "source": [
    "### Class Balanced or Imbalanced?"
   ]
  },
  {
   "cell_type": "code",
   "execution_count": 8,
   "metadata": {},
   "outputs": [
    {
     "data": {
      "text/plain": [
       "<matplotlib.figure.Figure at 0x1a468c5c860>"
      ]
     },
     "execution_count": 8,
     "metadata": {},
     "output_type": "execute_result"
    },
    {
     "data": {
      "text/plain": [
       "<matplotlib.figure.Figure at 0x1a468c5c860>"
      ]
     },
     "metadata": {},
     "output_type": "display_data"
    }
   ],
   "source": [
    "sns.set_style('whitegrid')\n",
    "plt.rcParams['font.family'] = 'Dejavu Sans'\n",
    "plt.figure(figsize=(16,8))"
   ]
  },
  {
   "cell_type": "code",
   "execution_count": 9,
   "metadata": {},
   "outputs": [
    {
     "data": {
      "text/plain": [
       "0    115422\n",
       "1       636\n",
       "Name: m13, dtype: int64"
      ]
     },
     "execution_count": 9,
     "metadata": {},
     "output_type": "execute_result"
    }
   ],
   "source": [
    "train_data['m13'].value_counts()"
   ]
  },
  {
   "cell_type": "code",
   "execution_count": 10,
   "metadata": {
    "scrolled": true
   },
   "outputs": [
    {
     "data": {
      "image/png": "[encoded data removed]",
      "text/plain": [
       "<matplotlib.figure.Figure at 0x1a468c5c5f8>"
      ]
     },
     "metadata": {},
     "output_type": "display_data"
    }
   ],
   "source": [
    "plt.title('Data provided by each user', fontsize=20)\n",
    "sns.countplot(x='m13',hue='m13', data = train_data)\n",
    "plt.show()"
   ]
  },
  {
   "cell_type": "code",
   "execution_count": 11,
   "metadata": {},
   "outputs": [],
   "source": [
    "# Data is highly imbalanced. There are very few "
   ]
  },
  {
   "cell_type": "markdown",
   "metadata": {},
   "source": [
    "### source"
   ]
  },
  {
   "cell_type": "code",
   "execution_count": 12,
   "metadata": {},
   "outputs": [
    {
     "data": {
      "image/png": "[encoded data removed]",
      "text/plain": [
       "<matplotlib.figure.Figure at 0x1a469718828>"
      ]
     },
     "metadata": {},
     "output_type": "display_data"
    }
   ],
   "source": [
    "plt.title('Data provided by each user', fontsize=20)\n",
    "sns.countplot(x='source',hue='m13', data = train_data)\n",
    "plt.show()"
   ]
  },
  {
   "cell_type": "markdown",
   "metadata": {},
   "source": [
    "### financial_institution"
   ]
  },
  {
   "cell_type": "code",
   "execution_count": 13,
   "metadata": {},
   "outputs": [
    {
     "data": {
      "text/plain": [
       "OTHER                          49699\n",
       "Browning-Hart                  31852\n",
       "Swanson, Newton and Miller      6874\n",
       "Edwards-Hoffman                 4857\n",
       "Martinez, Duffy and Bird        4715\n",
       "Miller, Mcclure and Allen       3158\n",
       "Nicholson Group                 2116\n",
       "Turner, Baldwin and Rhodes      1846\n",
       "Suarez Inc                      1790\n",
       "Cole, Brooks and Vincent        1642\n",
       "Richards-Walters                1459\n",
       "Taylor, Hunt and Rodriguez      1259\n",
       "Sanchez-Robinson                1193\n",
       "Sanchez, Hays and Wilkerson      853\n",
       "Romero, Woods and Johnson        750\n",
       "Thornton-Davis                   651\n",
       "Anderson-Taylor                  483\n",
       "Richardson Ltd                   473\n",
       "Chapman-Mcmahon                  388\n",
       "Name: financial_institution, dtype: int64"
      ]
     },
     "execution_count": 13,
     "metadata": {},
     "output_type": "execute_result"
    }
   ],
   "source": [
    "train_data['financial_institution'].value_counts()"
   ]
  },
  {
   "cell_type": "code",
   "execution_count": 14,
   "metadata": {},
   "outputs": [
    {
     "data": {
      "text/plain": [
       "<matplotlib.axes._subplots.AxesSubplot at 0x1a469792a20>"
      ]
     },
     "execution_count": 14,
     "metadata": {},
     "output_type": "execute_result"
    },
    {
     "data": {
      "image/png": "[encoded data removed]",
      "text/plain": [
       "<matplotlib.figure.Figure at 0x1a469792588>"
      ]
     },
     "metadata": {},
     "output_type": "display_data"
    }
   ],
   "source": [
    "plt.figure(figsize=(30,20))\n",
    "sns.countplot(x='financial_institution',hue='m13', data = train_data)"
   ]
  },
  {
   "cell_type": "code",
   "execution_count": 15,
   "metadata": {},
   "outputs": [
    {
     "data": {
      "text/html": [
       "<div>\n",
       "<style scoped>\n",
       "    .dataframe tbody tr th:only-of-type {\n",
       "        vertical-align: middle;\n",
       "    }\n",
       "\n",
       "    .dataframe tbody tr th {\n",
       "        vertical-align: top;\n",
       "    }\n",
       "\n",
       "    .dataframe thead th {\n",
       "        text-align: right;\n",
       "    }\n",
       "</style>\n",
       "<table border=\"1\" class=\"dataframe\">\n",
       "  <thead>\n",
       "    <tr style=\"text-align: right;\">\n",
       "      <th>m13</th>\n",
       "      <th>0</th>\n",
       "      <th>1</th>\n",
       "    </tr>\n",
       "    <tr>\n",
       "      <th>financial_institution</th>\n",
       "      <th></th>\n",
       "      <th></th>\n",
       "    </tr>\n",
       "  </thead>\n",
       "  <tbody>\n",
       "    <tr>\n",
       "      <th>Anderson-Taylor</th>\n",
       "      <td>480</td>\n",
       "      <td>3</td>\n",
       "    </tr>\n",
       "    <tr>\n",
       "      <th>Browning-Hart</th>\n",
       "      <td>31677</td>\n",
       "      <td>175</td>\n",
       "    </tr>\n",
       "    <tr>\n",
       "      <th>Chapman-Mcmahon</th>\n",
       "      <td>388</td>\n",
       "      <td>0</td>\n",
       "    </tr>\n",
       "    <tr>\n",
       "      <th>Cole, Brooks and Vincent</th>\n",
       "      <td>1630</td>\n",
       "      <td>12</td>\n",
       "    </tr>\n",
       "    <tr>\n",
       "      <th>Edwards-Hoffman</th>\n",
       "      <td>4816</td>\n",
       "      <td>41</td>\n",
       "    </tr>\n",
       "    <tr>\n",
       "      <th>Martinez, Duffy and Bird</th>\n",
       "      <td>4692</td>\n",
       "      <td>23</td>\n",
       "    </tr>\n",
       "    <tr>\n",
       "      <th>Miller, Mcclure and Allen</th>\n",
       "      <td>3139</td>\n",
       "      <td>19</td>\n",
       "    </tr>\n",
       "    <tr>\n",
       "      <th>Nicholson Group</th>\n",
       "      <td>2105</td>\n",
       "      <td>11</td>\n",
       "    </tr>\n",
       "    <tr>\n",
       "      <th>OTHER</th>\n",
       "      <td>49430</td>\n",
       "      <td>269</td>\n",
       "    </tr>\n",
       "    <tr>\n",
       "      <th>Richards-Walters</th>\n",
       "      <td>1454</td>\n",
       "      <td>5</td>\n",
       "    </tr>\n",
       "    <tr>\n",
       "      <th>Richardson Ltd</th>\n",
       "      <td>472</td>\n",
       "      <td>1</td>\n",
       "    </tr>\n",
       "    <tr>\n",
       "      <th>Romero, Woods and Johnson</th>\n",
       "      <td>748</td>\n",
       "      <td>2</td>\n",
       "    </tr>\n",
       "    <tr>\n",
       "      <th>Sanchez, Hays and Wilkerson</th>\n",
       "      <td>851</td>\n",
       "      <td>2</td>\n",
       "    </tr>\n",
       "    <tr>\n",
       "      <th>Sanchez-Robinson</th>\n",
       "      <td>1192</td>\n",
       "      <td>1</td>\n",
       "    </tr>\n",
       "    <tr>\n",
       "      <th>Suarez Inc</th>\n",
       "      <td>1785</td>\n",
       "      <td>5</td>\n",
       "    </tr>\n",
       "    <tr>\n",
       "      <th>Swanson, Newton and Miller</th>\n",
       "      <td>6828</td>\n",
       "      <td>46</td>\n",
       "    </tr>\n",
       "    <tr>\n",
       "      <th>Taylor, Hunt and Rodriguez</th>\n",
       "      <td>1255</td>\n",
       "      <td>4</td>\n",
       "    </tr>\n",
       "    <tr>\n",
       "      <th>Thornton-Davis</th>\n",
       "      <td>648</td>\n",
       "      <td>3</td>\n",
       "    </tr>\n",
       "    <tr>\n",
       "      <th>Turner, Baldwin and Rhodes</th>\n",
       "      <td>1832</td>\n",
       "      <td>14</td>\n",
       "    </tr>\n",
       "  </tbody>\n",
       "</table>\n",
       "</div>"
      ],
      "text/plain": [
       "m13                              0    1\n",
       "financial_institution                  \n",
       "Anderson-Taylor                480    3\n",
       "Browning-Hart                31677  175\n",
       "Chapman-Mcmahon                388    0\n",
       "Cole, Brooks and Vincent      1630   12\n",
       "Edwards-Hoffman               4816   41\n",
       "Martinez, Duffy and Bird      4692   23\n",
       "Miller, Mcclure and Allen     3139   19\n",
       "Nicholson Group               2105   11\n",
       "OTHER                        49430  269\n",
       "Richards-Walters              1454    5\n",
       "Richardson Ltd                 472    1\n",
       "Romero, Woods and Johnson      748    2\n",
       "Sanchez, Hays and Wilkerson    851    2\n",
       "Sanchez-Robinson              1192    1\n",
       "Suarez Inc                    1785    5\n",
       "Swanson, Newton and Miller    6828   46\n",
       "Taylor, Hunt and Rodriguez    1255    4\n",
       "Thornton-Davis                 648    3\n",
       "Turner, Baldwin and Rhodes    1832   14"
      ]
     },
     "execution_count": 15,
     "metadata": {},
     "output_type": "execute_result"
    }
   ],
   "source": [
    "train_data[['financial_institution','m13']].pivot_table(index='financial_institution', columns='m13', \n",
    "                        aggfunc=len, fill_value=0)"
   ]
  },
  {
   "cell_type": "markdown",
   "metadata": {},
   "source": [
    "### interest_rate"
   ]
  },
  {
   "cell_type": "code",
   "execution_count": 16,
   "metadata": {},
   "outputs": [],
   "source": [
    "defaultpayment = train_data[train_data['m13']==1]['interest_rate'].values\n",
    "\n",
    "successpayment = train_data[train_data['m13']==0]['interest_rate'].values"
   ]
  },
  {
   "cell_type": "code",
   "execution_count": 17,
   "metadata": {},
   "outputs": [
    {
     "data": {
      "image/png": "[encoded data removed]",
      "text/plain": [
       "<matplotlib.figure.Figure at 0x1a469722ef0>"
      ]
     },
     "metadata": {},
     "output_type": "display_data"
    }
   ],
   "source": [
    "# https://glowingpython.blogspot.com/2012/09/boxplot-with-matplotlib.html\n",
    "plt.boxplot([defaultpayment, successpayment])\n",
    "plt.title('Box Plots of Interest Rates')\n",
    "plt.xticks([1,2],('defaultpayment','successpayment'))\n",
    "plt.ylabel('Interest Rates')\n",
    "plt.grid()\n",
    "plt.show()"
   ]
  },
  {
   "cell_type": "code",
   "execution_count": 18,
   "metadata": {},
   "outputs": [],
   "source": [
    "# we could see most defaulters have to pay more interest rates "
   ]
  },
  {
   "cell_type": "markdown",
   "metadata": {},
   "source": [
    "### unpaid_principal_bal"
   ]
  },
  {
   "cell_type": "code",
   "execution_count": 19,
   "metadata": {},
   "outputs": [],
   "source": [
    "defaultpayment = train_data[train_data['m13']==1]['unpaid_principal_bal'].values\n",
    "\n",
    "successpayment = train_data[train_data['m13']==0]['unpaid_principal_bal'].values"
   ]
  },
  {
   "cell_type": "code",
   "execution_count": 20,
   "metadata": {},
   "outputs": [
    {
     "data": {
      "image/png": "[encoded data removed]",
      "text/plain": [
       "<matplotlib.figure.Figure at 0x1a469829a58>"
      ]
     },
     "metadata": {},
     "output_type": "display_data"
    }
   ],
   "source": [
    "plt.boxplot([defaultpayment, successpayment])\n",
    "plt.title('Box Plots of Unpaid Principal Balance')\n",
    "plt.xticks([1,2],('defaultpayment','successpayment'))\n",
    "plt.ylabel('Unpaid Principal Balance')\n",
    "plt.grid()\n",
    "plt.show()"
   ]
  },
  {
   "cell_type": "markdown",
   "metadata": {},
   "source": [
    "### loan_term"
   ]
  },
  {
   "cell_type": "code",
   "execution_count": 21,
   "metadata": {},
   "outputs": [
    {
     "data": {
      "text/plain": [
       "360    71812\n",
       "180    28584\n",
       "120     7061\n",
       "240     6749\n",
       "300      912\n",
       "96       178\n",
       "156       92\n",
       "144       73\n",
       "336       64\n",
       "324       53\n",
       "168       40\n",
       "348       33\n",
       "108       29\n",
       "276       22\n",
       "84        21\n",
       "312       19\n",
       "132       19\n",
       "216       16\n",
       "121       14\n",
       "288       13\n",
       "264       13\n",
       "228        8\n",
       "150        7\n",
       "162        6\n",
       "60         6\n",
       "166        5\n",
       "153        5\n",
       "163        4\n",
       "158        4\n",
       "165        4\n",
       "       ...  \n",
       "91         1\n",
       "219        1\n",
       "347        1\n",
       "100        1\n",
       "220        1\n",
       "93         1\n",
       "157        1\n",
       "349        1\n",
       "94         1\n",
       "290        1\n",
       "223        1\n",
       "280        1\n",
       "295        1\n",
       "359        1\n",
       "172        1\n",
       "274        1\n",
       "351        1\n",
       "83         1\n",
       "275        1\n",
       "174        1\n",
       "110        1\n",
       "85         1\n",
       "88         1\n",
       "149        1\n",
       "341        1\n",
       "86         1\n",
       "171        1\n",
       "278        1\n",
       "107        1\n",
       "319        1\n",
       "Name: loan_term, Length: 140, dtype: int64"
      ]
     },
     "execution_count": 21,
     "metadata": {},
     "output_type": "execute_result"
    }
   ],
   "source": [
    "train_data[\"loan_term\"].value_counts()"
   ]
  },
  {
   "cell_type": "code",
   "execution_count": 22,
   "metadata": {},
   "outputs": [],
   "source": [
    "defaultpayment = train_data[train_data['m13']==1]['loan_term'].values\n",
    "\n",
    "successpayment = train_data[train_data['m13']==0]['loan_term'].values"
   ]
  },
  {
   "cell_type": "code",
   "execution_count": 23,
   "metadata": {},
   "outputs": [
    {
     "data": {
      "image/png": "[encoded data removed]",
      "text/plain": [
       "<matplotlib.figure.Figure at 0x1a469852940>"
      ]
     },
     "metadata": {},
     "output_type": "display_data"
    }
   ],
   "source": [
    "plt.boxplot([defaultpayment, successpayment])\n",
    "plt.title('Box Plots of loan term')\n",
    "plt.xticks([1,2],('defaultpayment','successpayment'))\n",
    "plt.ylabel('loan term')\n",
    "plt.grid()\n",
    "plt.show()"
   ]
  },
  {
   "cell_type": "markdown",
   "metadata": {},
   "source": [
    "### origination_date"
   ]
  },
  {
   "cell_type": "code",
   "execution_count": 24,
   "metadata": {},
   "outputs": [],
   "source": [
    "def format_date(col):\n",
    "    temp = []\n",
    "    for x in pd.to_datetime(col, format=\"%Y-%m-%d\"):\n",
    "        if x > pd.to_datetime('today'):    temp.append(x - pd.DateOffset(years=100))\n",
    "        else:                              temp.append(x)\n",
    "    return temp"
   ]
  },
  {
   "cell_type": "code",
   "execution_count": 25,
   "metadata": {},
   "outputs": [],
   "source": [
    "train_data['origination_date']  =  format_date(train_data['origination_date'])\n",
    "train_data['origination_day']    =  train_data['origination_date'].dt.day\n",
    "train_data['origination_month']  =  train_data['origination_date'].dt.month\n",
    "train_data['origination_year']   =  train_data['origination_date'].dt.year"
   ]
  },
  {
   "cell_type": "code",
   "execution_count": 26,
   "metadata": {},
   "outputs": [],
   "source": [
    "def format_date_test(col):\n",
    "    temp = []\n",
    "    for x in pd.to_datetime(col, format=\"%d/%m/%y\"):\n",
    "        if x > pd.to_datetime('today'):    temp.append(x - pd.DateOffset(years=100))\n",
    "        else:                              temp.append(x)\n",
    "    return temp"
   ]
  },
  {
   "cell_type": "code",
   "execution_count": 27,
   "metadata": {},
   "outputs": [],
   "source": [
    "test_data['origination_date']  =  format_date_test(test_data['origination_date'])\n",
    "test_data['origination_day']    =  test_data['origination_date'].dt.day\n",
    "test_data['origination_month']  =  test_data['origination_date'].dt.month\n",
    "test_data['origination_year']   =  test_data['origination_date'].dt.year"
   ]
  },
  {
   "cell_type": "markdown",
   "metadata": {},
   "source": [
    "### first_payment_date\t"
   ]
  },
  {
   "cell_type": "code",
   "execution_count": 28,
   "metadata": {},
   "outputs": [],
   "source": [
    "# Difference between origination_date and first_payment_date is almost 2 months for most of the loan_ids. \n",
    "# we will not use this field in our classification problem."
   ]
  },
  {
   "cell_type": "markdown",
   "metadata": {},
   "source": [
    "### loan_to_value"
   ]
  },
  {
   "cell_type": "code",
   "execution_count": 29,
   "metadata": {},
   "outputs": [],
   "source": [
    "defaultpayment = train_data[train_data['m13']==1]['loan_to_value'].values\n",
    "\n",
    "successpayment = train_data[train_data['m13']==0]['loan_to_value'].values"
   ]
  },
  {
   "cell_type": "code",
   "execution_count": 30,
   "metadata": {},
   "outputs": [
    {
     "data": {
      "image/png": "[encoded data removed]",
      "text/plain": [
       "<matplotlib.figure.Figure at 0x1a46991e550>"
      ]
     },
     "metadata": {},
     "output_type": "display_data"
    }
   ],
   "source": [
    "plt.boxplot([defaultpayment, successpayment])\n",
    "plt.title('Box Plots of Loan to Value')\n",
    "plt.xticks([1,2],('defaultpayment','successpayment'))\n",
    "plt.ylabel('loan_to_value')\n",
    "plt.grid()\n",
    "plt.show()\n"
   ]
  },
  {
   "cell_type": "markdown",
   "metadata": {},
   "source": [
    "### debt_to_income_ratio"
   ]
  },
  {
   "cell_type": "code",
   "execution_count": 31,
   "metadata": {},
   "outputs": [],
   "source": [
    "defaultpayment = train_data[train_data['m13']==1]['debt_to_income_ratio'].values\n",
    "\n",
    "successpayment = train_data[train_data['m13']==0]['debt_to_income_ratio'].values"
   ]
  },
  {
   "cell_type": "code",
   "execution_count": 32,
   "metadata": {},
   "outputs": [
    {
     "data": {
      "image/png": "[encoded data removed]",
      "text/plain": [
       "<matplotlib.figure.Figure at 0x1a46991e240>"
      ]
     },
     "metadata": {},
     "output_type": "display_data"
    }
   ],
   "source": [
    "plt.boxplot([defaultpayment, successpayment])\n",
    "plt.title('Box Plots of debt to income ratio')\n",
    "plt.xticks([1,2],('defaultpayment','successpayment'))\n",
    "plt.ylabel('debt_to_income_ratio')\n",
    "plt.grid()\n",
    "plt.show()"
   ]
  },
  {
   "cell_type": "markdown",
   "metadata": {},
   "source": [
    "### borrower_credit_score"
   ]
  },
  {
   "cell_type": "code",
   "execution_count": 33,
   "metadata": {},
   "outputs": [],
   "source": [
    "defaultpayment = train_data[train_data['m13']==1]['borrower_credit_score'].values\n",
    "\n",
    "successpayment = train_data[train_data['m13']==0]['borrower_credit_score'].values"
   ]
  },
  {
   "cell_type": "code",
   "execution_count": 34,
   "metadata": {},
   "outputs": [
    {
     "data": {
      "image/png": "[encoded data removed]",
      "text/plain": [
       "<matplotlib.figure.Figure at 0x1a46991ec88>"
      ]
     },
     "metadata": {},
     "output_type": "display_data"
    }
   ],
   "source": [
    "plt.boxplot([defaultpayment, successpayment])\n",
    "plt.title('Box Plots of borrower credit score')\n",
    "plt.xticks([1,2],('defaultpayment','successpayment'))\n",
    "plt.ylabel('borrower_credit_score')\n",
    "plt.grid()\n",
    "plt.show()"
   ]
  },
  {
   "cell_type": "code",
   "execution_count": 35,
   "metadata": {},
   "outputs": [],
   "source": [
    "# more credit score means they are able to repay their loan EMI. we can easily differentiate defaulters."
   ]
  },
  {
   "cell_type": "markdown",
   "metadata": {},
   "source": [
    "### loan_purpose"
   ]
  },
  {
   "cell_type": "code",
   "execution_count": 36,
   "metadata": {},
   "outputs": [
    {
     "data": {
      "text/plain": [
       "A23    58462\n",
       "B12    29383\n",
       "C86    28213\n",
       "Name: loan_purpose, dtype: int64"
      ]
     },
     "execution_count": 36,
     "metadata": {},
     "output_type": "execute_result"
    }
   ],
   "source": [
    "train_data[\"loan_purpose\"].value_counts()"
   ]
  },
  {
   "cell_type": "code",
   "execution_count": 37,
   "metadata": {},
   "outputs": [
    {
     "data": {
      "image/png": "[encoded data removed]",
      "text/plain": [
       "<matplotlib.figure.Figure at 0x1a46991e6a0>"
      ]
     },
     "metadata": {},
     "output_type": "display_data"
    }
   ],
   "source": [
    "plt.title('Data provided by each user', fontsize=20)\n",
    "sns.countplot(x='loan_purpose',hue='m13', data = train_data)\n",
    "plt.show()"
   ]
  },
  {
   "cell_type": "markdown",
   "metadata": {},
   "source": [
    "### insurance_percent"
   ]
  },
  {
   "cell_type": "code",
   "execution_count": 38,
   "metadata": {},
   "outputs": [
    {
     "data": {
      "text/plain": [
       "0.0     102455\n",
       "30.0      5113\n",
       "25.0      4885\n",
       "12.0      2493\n",
       "6.0        701\n",
       "35.0       372\n",
       "16.0        18\n",
       "18.0        12\n",
       "20.0         3\n",
       "17.0         2\n",
       "15.0         1\n",
       "39.0         1\n",
       "22.0         1\n",
       "40.0         1\n",
       "Name: insurance_percent, dtype: int64"
      ]
     },
     "execution_count": 38,
     "metadata": {},
     "output_type": "execute_result"
    }
   ],
   "source": [
    "train_data[\"insurance_percent\"].value_counts()"
   ]
  },
  {
   "cell_type": "code",
   "execution_count": 39,
   "metadata": {},
   "outputs": [
    {
     "data": {
      "text/plain": [
       "<matplotlib.axes._subplots.AxesSubplot at 0x1a4698bfb38>"
      ]
     },
     "execution_count": 39,
     "metadata": {},
     "output_type": "execute_result"
    },
    {
     "data": {
      "image/png": "[encoded data removed]",
      "text/plain": [
       "<matplotlib.figure.Figure at 0x1a46991ea20>"
      ]
     },
     "metadata": {},
     "output_type": "display_data"
    }
   ],
   "source": [
    "corrmat = train_data.corr() \n",
    "  \n",
    "f, ax = plt.subplots(figsize =(9, 8)) \n",
    "sns.heatmap(corrmat, ax = ax, cmap =\"YlGnBu\", linewidths = 0.1) "
   ]
  },
  {
   "cell_type": "code",
   "execution_count": 40,
   "metadata": {},
   "outputs": [],
   "source": [
    "# co-borrower_credit_score and number_of_borrowers are highly co-related. so we will take number_of_borrowers and \n",
    "# drop co-borrower_credit_score. "
   ]
  },
  {
   "cell_type": "markdown",
   "metadata": {},
   "source": [
    "### Feature Engineering:"
   ]
  },
  {
   "cell_type": "code",
   "execution_count": 41,
   "metadata": {},
   "outputs": [],
   "source": [
    "# How many times in last one year a person becomes defaulter.\n",
    "df = pd.DataFrame([0 for i in range(train_data.shape[0])] ,columns=['number_of_times_default'])"
   ]
  },
  {
   "cell_type": "code",
   "execution_count": 42,
   "metadata": {},
   "outputs": [],
   "source": [
    "for i in range(0,train_data.shape[0]):\n",
    "    count = 0\n",
    "    for j in train_data.loc[i:i, 'm1':'m12'].values.tolist()[0][::-1]:\n",
    "        if j != 0:\n",
    "            count += 1\n",
    "    df['number_of_times_default'].iloc[i] = count"
   ]
  },
  {
   "cell_type": "code",
   "execution_count": 43,
   "metadata": {},
   "outputs": [],
   "source": [
    "train_data = pd.concat([train_data,df], axis=1)"
   ]
  },
  {
   "cell_type": "code",
   "execution_count": 44,
   "metadata": {},
   "outputs": [],
   "source": [
    "df_test = pd.DataFrame([0 for i in range(test_data.shape[0])] ,columns=['number_of_times_default'])"
   ]
  },
  {
   "cell_type": "code",
   "execution_count": 45,
   "metadata": {},
   "outputs": [],
   "source": [
    "for i in range(0,test_data.shape[0]):\n",
    "    count = 0\n",
    "    for j in test_data.loc[i:i, 'm1':'m12'].values.tolist()[0][::-1]:\n",
    "        if j != 0:\n",
    "            count += 1\n",
    "    df_test['number_of_times_default'].iloc[i] = count"
   ]
  },
  {
   "cell_type": "code",
   "execution_count": 46,
   "metadata": {},
   "outputs": [],
   "source": [
    "test_data = pd.concat([test_data,df_test], axis=1)"
   ]
  },
  {
   "cell_type": "markdown",
   "metadata": {},
   "source": [
    "### One Hot Encoding for all Categorical data"
   ]
  },
  {
   "cell_type": "code",
   "execution_count": 47,
   "metadata": {},
   "outputs": [],
   "source": [
    "all_onehot = []\n",
    "all_onehot_test = []\n",
    "for categorical_var in train_data.select_dtypes(include=['object']):\n",
    "    if categorical_var not in ['origination_date','first_payment_date']:\n",
    "        enc = OneHotEncoder(handle_unknown='ignore')\n",
    "        categorical_var_train = enc.fit_transform(np.array(train_data[categorical_var]).reshape(-1, 1))\n",
    "        categorical_var_test = enc.transform(np.array(test_data[categorical_var]).reshape(-1, 1))\n",
    "        all_onehot.append(categorical_var_train.toarray())\n",
    "        all_onehot_test.append(categorical_var_test.toarray())"
   ]
  },
  {
   "cell_type": "code",
   "execution_count": 48,
   "metadata": {},
   "outputs": [],
   "source": [
    "target = train_data['m13']\n",
    "new_train = train_data.drop(['loan_id','source','financial_institution','origination_date','first_payment_date','co-borrower_credit_score','loan_purpose','m13'], axis=1)"
   ]
  },
  {
   "cell_type": "code",
   "execution_count": 49,
   "metadata": {},
   "outputs": [],
   "source": [
    "new_test = test_data.drop(['loan_id','source','financial_institution','origination_date','first_payment_date','co-borrower_credit_score','loan_purpose'], axis=1)"
   ]
  },
  {
   "cell_type": "code",
   "execution_count": 50,
   "metadata": {},
   "outputs": [],
   "source": [
    "X_train = np.concatenate([new_train,all_onehot[0],all_onehot[1],all_onehot[2]], axis =1)"
   ]
  },
  {
   "cell_type": "code",
   "execution_count": 51,
   "metadata": {},
   "outputs": [],
   "source": [
    "X_test = np.concatenate([new_test,all_onehot_test[0],all_onehot_test[1],all_onehot_test[2]], axis =1)"
   ]
  },
  {
   "cell_type": "code",
   "execution_count": 52,
   "metadata": {},
   "outputs": [],
   "source": [
    "# as the data is imbalanced, we can go for class_weight=\"balanced\" or give a optimal value to scale_pos_weight\n",
    "xbgr = xgb.XGBClassifier(learning_rate =.1,\n",
    " n_estimators=1000,\n",
    " max_depth=10,\n",
    " min_child_weight=6,\n",
    " gamma=.1,\n",
    " subsample=0.7,\n",
    " colsample_bytree=0.6,\n",
    " objective= 'binary:logistic',\n",
    " nthread=4,\n",
    " scale_pos_weight=4,\n",
    " reg_alpha=100,\n",
    " class_weight=\"balanced\" ,                      \n",
    " seed=27)"
   ]
  },
  {
   "cell_type": "code",
   "execution_count": 53,
   "metadata": {},
   "outputs": [
    {
     "data": {
      "text/plain": [
       "XGBClassifier(base_score=0.5, booster='gbtree', class_weight='balanced',\n",
       "       colsample_bylevel=1, colsample_bytree=0.6, gamma=0.1,\n",
       "       learning_rate=0.1, max_delta_step=0, max_depth=10,\n",
       "       min_child_weight=6, missing=None, n_estimators=1000, n_jobs=1,\n",
       "       nthread=4, objective='binary:logistic', random_state=0,\n",
       "       reg_alpha=100, reg_lambda=1, scale_pos_weight=4, seed=27,\n",
       "       silent=True, subsample=0.7)"
      ]
     },
     "execution_count": 53,
     "metadata": {},
     "output_type": "execute_result"
    }
   ],
   "source": [
    "xbgr.fit(X_train, target)"
   ]
  },
  {
   "cell_type": "code",
   "execution_count": 55,
   "metadata": {},
   "outputs": [],
   "source": [
    "y_pred_train = xbgr.predict(X_train)"
   ]
  },
  {
   "cell_type": "code",
   "execution_count": 56,
   "metadata": {},
   "outputs": [
    {
     "data": {
      "text/plain": [
       "Text(91.68,0.5,'predicted label')"
      ]
     },
     "execution_count": 56,
     "metadata": {},
     "output_type": "execute_result"
    },
    {
     "data": {
      "image/png": "[encoded data removed]",
      "text/plain": [
       "<matplotlib.figure.Figure at 0x1a469e561d0>"
      ]
     },
     "metadata": {},
     "output_type": "display_data"
    }
   ],
   "source": [
    "mat = confusion_matrix(target, y_pred_train)\n",
    "sns.heatmap(mat.T, square=True, annot=True, fmt='d', cbar=False)\n",
    "plt.xlabel('true label')\n",
    "plt.ylabel('predicted label')"
   ]
  },
  {
   "cell_type": "code",
   "execution_count": 57,
   "metadata": {},
   "outputs": [
    {
     "data": {
      "text/plain": [
       "0.5511182108626198"
      ]
     },
     "execution_count": 57,
     "metadata": {},
     "output_type": "execute_result"
    }
   ],
   "source": [
    "f1_score(target, y_pred_train)"
   ]
  },
  {
   "cell_type": "code",
   "execution_count": 58,
   "metadata": {},
   "outputs": [],
   "source": [
    "y_pred = xbgr.predict(X_test)"
   ]
  },
  {
   "cell_type": "code",
   "execution_count": 59,
   "metadata": {},
   "outputs": [],
   "source": [
    "sam_sub_data = pd.read_csv('sample_submission.csv')"
   ]
  },
  {
   "cell_type": "code",
   "execution_count": 60,
   "metadata": {},
   "outputs": [],
   "source": [
    "import csv \n",
    "\n",
    "with open('submission.csv', 'w', newline='') as writeFile:\n",
    "    writer = csv.writer(writeFile)\n",
    "    for i in range(len(y_pred)):\n",
    "        writer.writerow([sam_sub_data['loan_id'].iloc[i],y_pred[i]])\n",
    "        \n",
    "writeFile.close()"
   ]
  },
  {
   "cell_type": "markdown",
   "metadata": {},
   "source": [
    "### Hyperparameter Tuning using GridSearchCV"
   ]
  },
  {
   "cell_type": "code",
   "execution_count": 61,
   "metadata": {},
   "outputs": [],
   "source": [
    "# f1_scorer = make_scorer(f1_score)\n",
    "# hyper_parameter = {'subsample': [0.6, 0.8, 1.0],\n",
    "# 'min_child_weight': [1, 5, 10],\n",
    "# 'gamma': [0.5, 1, 1.5, 2, 5],\n",
    "# 'max_depth': [3,5,8,10],\n",
    "# \"n_estimators\": [100,300],\n",
    "# 'colsample_bytree': [0.6, 0.8, 1.0],\n",
    "# 'reg_alpha':[100],\n",
    "# 'scale_pos_weight':[4,5]}"
   ]
  },
  {
   "cell_type": "code",
   "execution_count": null,
   "metadata": {},
   "outputs": [],
   "source": [
    "# xgbc = xgb.XGBClassifier( learning_rate =0.1)\n",
    "# clf = GridSearchCV(xgbc, hyper_parameter, verbose = 5, scoring=f1_scorer,n_jobs=-1, cv=3)\n",
    "# clf.fit(X_train, target)"
   ]
  },
  {
   "cell_type": "code",
   "execution_count": null,
   "metadata": {},
   "outputs": [],
   "source": []
  }
 ],
 "metadata": {
  "kernelspec": {
   "display_name": "Python 3",
   "language": "python",
   "name": "python3"
  },
  "language_info": {
   "codemirror_mode": {
    "name": "ipython",
    "version": 3
   },
   "file_extension": ".py",
   "mimetype": "text/x-python",
   "name": "python",
   "nbconvert_exporter": "python",
   "pygments_lexer": "ipython3",
   "version": "3.6.4"
  }
 },
 "nbformat": 4,
 "nbformat_minor": 2
}
